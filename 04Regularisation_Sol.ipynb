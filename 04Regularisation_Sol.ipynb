{
 "cells": [
  {
   "cell_type": "markdown",
   "metadata": {},
   "source": [
    "# TP Feature Selection / Regularisation"
   ]
  },
  {
   "cell_type": "markdown",
   "metadata": {},
   "source": [
    "### author: Anastasios Giovanidis, 2018-2019"
   ]
  },
  {
   "cell_type": "markdown",
   "metadata": {},
   "source": [
    "This is the TP related to Feature Selection / Regularisation. We will need to import the following libraries."
   ]
  },
  {
   "cell_type": "code",
   "execution_count": 1,
   "metadata": {},
   "outputs": [],
   "source": [
    "import matplotlib.pyplot as plt\n",
    "import numpy as np\n",
    "import pandas as pd\n",
    "from sklearn.datasets import load_boston, load_diabetes, load_linnerud\n",
    "from sklearn.preprocessing import scale\n",
    "from sklearn.model_selection import train_test_split, cross_validate\n",
    "from sklearn.linear_model import LinearRegression, Ridge, Lasso\n",
    "from sklearn.metrics import mean_squared_error, r2_score\n",
    "from sklearn.cross_decomposition import PLSRegression"
   ]
  },
  {
   "cell_type": "markdown",
   "metadata": {},
   "source": [
    "In this class we will learn how to use PYTHON for regression, using the new methods that either choose a subset of features, or reduce the dimension, or shrink the coefficients. Specifically, we will study:\n",
    "\n",
    "- Ridge Regression\n",
    "- The Lasso\n",
    "- Partial Least Squares (PLS)"
   ]
  },
  {
   "cell_type": "markdown",
   "metadata": {},
   "source": [
    "## Preparation: Importing datasets"
   ]
  },
  {
   "cell_type": "markdown",
   "metadata": {},
   "source": [
    "To do so, we will first import a dataset, with a large number of features. We need the following libraries."
   ]
  },
  {
   "cell_type": "markdown",
   "metadata": {},
   "source": [
    "- Dataset 1: Boston House Prices dataset (Linear Regression example)"
   ]
  },
  {
   "cell_type": "code",
   "execution_count": 2,
   "metadata": {},
   "outputs": [],
   "source": [
    "# load_boston(): from the sklearn.datasets library\n",
    "boston=load_boston()"
   ]
  },
  {
   "cell_type": "markdown",
   "metadata": {},
   "source": [
    "One can read the general discription of the \"Boston\" dataset and find the names of Features by printing the following:"
   ]
  },
  {
   "cell_type": "code",
   "execution_count": 3,
   "metadata": {},
   "outputs": [
    {
     "name": "stdout",
     "output_type": "stream",
     "text": [
      "dict_keys(['data', 'target', 'feature_names', 'DESCR'])\n"
     ]
    }
   ],
   "source": [
    "print(boston.keys())\n",
    "#print(boston.DESCR)\n",
    "#print(boston.feature_names)"
   ]
  },
  {
   "cell_type": "markdown",
   "metadata": {},
   "source": [
    "We create a panda DataFrame to keep all Features in a compact format."
   ]
  },
  {
   "cell_type": "code",
   "execution_count": 4,
   "metadata": {},
   "outputs": [],
   "source": [
    "boston_df=pd.DataFrame(boston.data,columns=boston.feature_names)\n",
    "#print(boston_df)\n",
    "#print(boston_df.info())"
   ]
  },
  {
   "cell_type": "markdown",
   "metadata": {},
   "source": [
    "The response Y is actually the price of an asset found in the dataset as 'target'. We need to add this as well."
   ]
  },
  {
   "cell_type": "code",
   "execution_count": 5,
   "metadata": {},
   "outputs": [],
   "source": [
    "boston_df['Price']=boston.target"
   ]
  },
  {
   "cell_type": "markdown",
   "metadata": {},
   "source": [
    "## Exercise 1 (Ridge Regression)"
   ]
  },
  {
   "cell_type": "markdown",
   "metadata": {},
   "source": [
    "- Use the Boston dataset to perform Linear Regression, and afterwards, Ridge Regression with the sklearn functions. For Ridge use $\\lambda = 5$ (the sklearn Ridge parameter is called alpha). Compare the two methods, based on the Mean Squared Error, $R^2$ and the coefficient values. What do you observe?\n",
    "\n",
    "\n",
    "- As a second step, plot (i) the MSE test error and (ii) the values of feature coefficients, for $\\lambda\\in[0,25]$.\n",
    "\n",
    "note 1: To use Ridge, you need to **rescale** the data (not the target) so that the mean is $0$ and the standard deviation is $1$.\n",
    "\n",
    "note 2: You should also consider splitting the dataset into a Train and a Test set.\n",
    "\n",
    "note 3: The Ridge Regression parameter is 'alpha'. For documentation, see: https://scikit-learn.org/stable/modules/generated/sklearn.linear_model.Ridge.html"
   ]
  },
  {
   "cell_type": "markdown",
   "metadata": {},
   "source": [
    "**Answer:**"
   ]
  },
  {
   "cell_type": "markdown",
   "metadata": {},
   "source": [
    "Preparation: Rescale + Train-Test Split. We will first need to rescale and standardize the data set."
   ]
  },
  {
   "cell_type": "code",
   "execution_count": 6,
   "metadata": {},
   "outputs": [],
   "source": [
    "# scale: from the preprocessing library\n",
    "Xboston = scale(boston_df.drop('Price',axis=1))\n",
    "Yboston = boston_df['Price']"
   ]
  },
  {
   "cell_type": "code",
   "execution_count": 7,
   "metadata": {},
   "outputs": [],
   "source": [
    "#print(Xboston.mean(0).round())"
   ]
  },
  {
   "cell_type": "markdown",
   "metadata": {},
   "source": [
    "Then we split the dataset in Train-Test (Validation set, with 30% test dataset, randomly chosen - with seed)"
   ]
  },
  {
   "cell_type": "code",
   "execution_count": 8,
   "metadata": {},
   "outputs": [],
   "source": [
    "# train_test_split: from the sklearn.model_selection library\n",
    "Xbo_train, Xbo_test, ybo_train, ybo_test = train_test_split(Xboston, Yboston, test_size=0.3, random_state=10)\n",
    "#print(len(ybo_train))"
   ]
  },
  {
   "cell_type": "markdown",
   "metadata": {},
   "source": [
    "- Linear Regression"
   ]
  },
  {
   "cell_type": "code",
   "execution_count": 9,
   "metadata": {},
   "outputs": [
    {
     "data": {
      "text/plain": [
       "LinearRegression(copy_X=True, fit_intercept=True, n_jobs=1, normalize=False)"
      ]
     },
     "execution_count": 9,
     "metadata": {},
     "output_type": "execute_result"
    }
   ],
   "source": [
    "#LinearRegression(): from the sklearn.linear_model library.\n",
    "lr_boston = LinearRegression()\n",
    "lr_boston.fit(Xbo_train, ybo_train)"
   ]
  },
  {
   "cell_type": "code",
   "execution_count": 10,
   "metadata": {},
   "outputs": [],
   "source": [
    "ybo_pred_lr = lr_boston.predict(Xbo_test)"
   ]
  },
  {
   "cell_type": "code",
   "execution_count": 11,
   "metadata": {},
   "outputs": [
    {
     "name": "stdout",
     "output_type": "stream",
     "text": [
      "Mean_squared_error (LR): 29.36 \n",
      "\n",
      "R2_score (LR): 0.70 \n",
      "\n",
      "Coefficients (LR): [-1.31658181  1.51451746 -0.16266566  0.41237766 -1.77871026  2.34625699\n",
      "  0.32214971 -3.2588586   2.6308027  -2.05760186 -1.75824088  1.19331793\n",
      " -3.89527992]\n"
     ]
    }
   ],
   "source": [
    "# mean_squared_error, r2_score: from the sklearn.metrics library.\n",
    "# The mean squared error\n",
    "print(\"Mean_squared_error (LR): %.2f\" % mean_squared_error(ybo_test, ybo_pred_lr),'\\n')\n",
    "# Explained variance score: 1 is perfect prediction \n",
    "print('R2_score (LR): %.2f' % r2_score(ybo_test, ybo_pred_lr),'\\n')\n",
    "# Coefficients\n",
    "print('Coefficients (LR):', lr_boston.coef_)"
   ]
  },
  {
   "cell_type": "markdown",
   "metadata": {},
   "source": [
    "- Ridge Regression"
   ]
  },
  {
   "cell_type": "code",
   "execution_count": 12,
   "metadata": {},
   "outputs": [
    {
     "data": {
      "text/plain": [
       "Ridge(alpha=5, copy_X=True, fit_intercept=True, max_iter=None,\n",
       "   normalize=False, random_state=None, solver='auto', tol=0.001)"
      ]
     },
     "execution_count": 12,
     "metadata": {},
     "output_type": "execute_result"
    }
   ],
   "source": [
    "# Ridge: from the sklearn.linear_model library\n",
    "rr_boston = Ridge(alpha=5, solver='auto')\n",
    "rr_boston.fit(Xbo_train, ybo_train)"
   ]
  },
  {
   "cell_type": "code",
   "execution_count": 13,
   "metadata": {},
   "outputs": [],
   "source": [
    "ybo_pred_rr = rr_boston.predict(Xbo_test)"
   ]
  },
  {
   "cell_type": "code",
   "execution_count": 14,
   "metadata": {},
   "outputs": [
    {
     "name": "stdout",
     "output_type": "stream",
     "text": [
      "Mean_squared_error (Ridge): 29.29 \n",
      "\n",
      "R2_score (Ridge): 0.70 \n",
      "\n",
      "Coefficients (Ridge): [-1.24567174  1.40932193 -0.24691334  0.43420738 -1.61137783  2.41485116\n",
      "  0.2611496  -3.05445266  2.22941546 -1.70301435 -1.71751038  1.18522111\n",
      " -3.79954329]\n"
     ]
    }
   ],
   "source": [
    "# The mean squared error\n",
    "print(\"Mean_squared_error (Ridge): %.2f\" % mean_squared_error(ybo_test, ybo_pred_rr),'\\n')\n",
    "# Explained variance score: 1 is perfect prediction \n",
    "print('R2_score (Ridge): %.2f' % r2_score(ybo_test, ybo_pred_rr),'\\n')\n",
    "# Coefficients\n",
    "print('Coefficients (Ridge):', rr_boston.coef_)"
   ]
  },
  {
   "cell_type": "code",
   "execution_count": 15,
   "metadata": {},
   "outputs": [],
   "source": [
    "# Alternatively\n",
    "# R2_score =rr_boston.score(Xbo_test,ybo_test)"
   ]
  },
  {
   "cell_type": "code",
   "execution_count": 16,
   "metadata": {},
   "outputs": [
    {
     "data": {
      "text/plain": [
       "Text(0,0.5,'Test MSE')"
      ]
     },
     "execution_count": 16,
     "metadata": {},
     "output_type": "execute_result"
    },
    {
     "data": {
      "image/png": "[encoded data removed]",
      "text/plain": [
       "<Figure size 432x288 with 1 Axes>"
      ]
     },
     "metadata": {},
     "output_type": "display_data"
    }
   ],
   "source": [
    "# Ordinary Least Squares (ols)\n",
    "ols_mse = mean_squared_error(ybo_test, ybo_pred_lr)\n",
    "#\n",
    "MSEtestRR = list()\n",
    "MSEtestRR.append(ols_mse)\n",
    "#\n",
    "Boston_coefRR = list()\n",
    "Boston_coefRR.append(lr_boston.coef_)\n",
    "#\n",
    "for alpha in np.arange(1,25,1):\n",
    "    rr_boston = Ridge(alpha)\n",
    "    rr_boston.fit(Xbo_train, ybo_train)\n",
    "    ybo_pred_rr = rr_boston.predict(Xbo_test)\n",
    "    MSEtestRR.append(mean_squared_error(ybo_test, ybo_pred_rr))\n",
    "    Boston_coefRR.append(rr_boston.coef_)\n",
    "#\n",
    "#\n",
    "plt.plot(np.arange(0,25,1),MSEtestRR[:25],'ro',color='blue',label='data')\n",
    "plt.axhline(y=ols_mse, color='g', linestyle='--')\n",
    "plt.title(\"Ridge vs OLS\", fontsize=16)\n",
    "plt.xlabel(\"Ridge parameter lambda (alpha)\")\n",
    "plt.ylabel(\"Test MSE\")"
   ]
  },
  {
   "cell_type": "code",
   "execution_count": 17,
   "metadata": {},
   "outputs": [
    {
     "name": "stdout",
     "output_type": "stream",
     "text": [
      "['CRIM' 'ZN' 'INDUS' 'CHAS' 'NOX' 'RM' 'AGE' 'DIS' 'RAD' 'TAX' 'PTRATIO'\n",
      " 'B' 'LSTAT']\n"
     ]
    }
   ],
   "source": [
    "PBoston_coef = pd.DataFrame(Boston_coefRR,columns=boston.feature_names)\n",
    "print(boston.feature_names)"
   ]
  },
  {
   "cell_type": "code",
   "execution_count": 18,
   "metadata": {},
   "outputs": [
    {
     "data": {
      "image/png": "[encoded data removed]",
      "text/plain": [
       "<Figure size 432x288 with 1 Axes>"
      ]
     },
     "metadata": {},
     "output_type": "display_data"
    }
   ],
   "source": [
    "plt.plot(PBoston_coef.RM, 'r', PBoston_coef.ZN, 'g', PBoston_coef.RAD, 'b', PBoston_coef.CRIM, 'c', PBoston_coef.TAX, 'y')\n",
    "plt.axhline(y=0, color='black', linestyle='--')\n",
    "plt.title(\"Ridge coefficients\", fontsize=16)\n",
    "plt.xlabel(\"Ridge parameter lambda (alpha)\")\n",
    "plt.ylabel(\"Coeff Estimate\")\n",
    "plt.legend(labels=['RM','ZN','RAD','CRIM','TAX'])\n",
    "#plt.legend(labels=['Room','Residential Zone','Highway Access','Crime Rate','Tax'])\n",
    "plt.grid(True)"
   ]
  },
  {
   "cell_type": "markdown",
   "metadata": {},
   "source": [
    "## Exercise 2 (The Lasso)"
   ]
  },
  {
   "cell_type": "markdown",
   "metadata": {},
   "source": [
    "- Use the same Boston dataset, with same Train-test split, to perform the Lasso using the sklearn function. Use $\\lambda = 1$ (the sklearn Lasso parameter is called alpha). Print the Mean Squared Error, $R^2$ and the coefficient values. What do you observe?\n",
    "\n",
    "\n",
    "- As a second step, plot (i) the MSE test error and (ii) the values of feature coefficients, for $\\lambda\\in[0,0.3]$.\n",
    "\n",
    "\n",
    "- Finally, compare the minimum Test MSE for Lasso, with the one for Ridge and the OLS. Which one is better?\n",
    "\n",
    "note 1: To use Lasso, you need keep the **rescaled** data from before. \n",
    "\n",
    "note 2: Keep the same split of the dataset as above in a Train and a Test set.\n",
    "\n",
    "note 3: The Lasso Regression parameter is 'alpha'. For documentation, see: https://scikit-learn.org/stable/modules/generated/sklearn.linear_model.Lasso.html"
   ]
  },
  {
   "cell_type": "markdown",
   "metadata": {},
   "source": [
    "**Answer:**"
   ]
  },
  {
   "cell_type": "markdown",
   "metadata": {},
   "source": [
    "- The Lasso"
   ]
  },
  {
   "cell_type": "code",
   "execution_count": 19,
   "metadata": {},
   "outputs": [
    {
     "data": {
      "text/plain": [
       "Lasso(alpha=1, copy_X=True, fit_intercept=True, max_iter=1000,\n",
       "   normalize=False, positive=False, precompute=False, random_state=None,\n",
       "   selection='cyclic', tol=0.0001, warm_start=False)"
      ]
     },
     "execution_count": 19,
     "metadata": {},
     "output_type": "execute_result"
    }
   ],
   "source": [
    "# Lasso: from the sklearn.linear_model library\n",
    "la_boston = Lasso(alpha=1)\n",
    "la_boston.fit(Xbo_train, ybo_train)"
   ]
  },
  {
   "cell_type": "code",
   "execution_count": 20,
   "metadata": {},
   "outputs": [],
   "source": [
    "ybo_pred_la = la_boston.predict(Xbo_test)"
   ]
  },
  {
   "cell_type": "code",
   "execution_count": 21,
   "metadata": {},
   "outputs": [
    {
     "name": "stdout",
     "output_type": "stream",
     "text": [
      "Mean_squared_error (Lasso): 34.85 \n",
      "\n",
      "R2_score (Lasso): 0.64 \n",
      "\n",
      "Coefficients (Lasso): [-0.          0.         -0.          0.         -0.          2.40090968\n",
      " -0.         -0.         -0.         -0.         -1.21154448  0.50995516\n",
      " -3.62280316]\n"
     ]
    }
   ],
   "source": [
    "# The mean squared error\n",
    "print(\"Mean_squared_error (Lasso): %.2f\" % mean_squared_error(ybo_test, ybo_pred_la),'\\n')\n",
    "# Explained variance score: 1 is perfect prediction \n",
    "print('R2_score (Lasso): %.2f' % r2_score(ybo_test, ybo_pred_la),'\\n')\n",
    "# Coefficients\n",
    "print('Coefficients (Lasso):', la_boston.coef_)"
   ]
  },
  {
   "cell_type": "markdown",
   "metadata": {},
   "source": [
    "The Test MSE is higher than the OLSs and the $R^2$ is smaller. Several coefficients are set to zero."
   ]
  },
  {
   "cell_type": "code",
   "execution_count": 22,
   "metadata": {},
   "outputs": [
    {
     "data": {
      "text/plain": [
       "Text(0,0.5,'Test MSE')"
      ]
     },
     "execution_count": 22,
     "metadata": {},
     "output_type": "execute_result"
    },
    {
     "data": {
      "image/png": "[encoded data removed]",
      "text/plain": [
       "<Figure size 432x288 with 1 Axes>"
      ]
     },
     "metadata": {},
     "output_type": "display_data"
    }
   ],
   "source": [
    "# Ordinary Least Squares (ols)\n",
    "ols_mse = mean_squared_error(ybo_test, ybo_pred_lr)\n",
    "#\n",
    "MSEtestLA = list()\n",
    "MSEtestLA.append(ols_mse)\n",
    "#\n",
    "Boston_coefLA = list()\n",
    "Boston_coefLA.append(la_boston.coef_)\n",
    "#\n",
    "for alpha in np.arange(0.01,0.3,0.01):\n",
    "    la_boston = Lasso(alpha)\n",
    "    la_boston.fit(Xbo_train, ybo_train)\n",
    "    ybo_pred_la = la_boston.predict(Xbo_test)\n",
    "    MSEtestLA.append(mean_squared_error(ybo_test, ybo_pred_la))\n",
    "    Boston_coefLA.append(la_boston.coef_)\n",
    "#\n",
    "#\n",
    "plt.plot(np.arange(0,0.3,0.01),MSEtestLA,'ro',color='blue',label='data')\n",
    "plt.axhline(y=ols_mse, color='g', linestyle='--')\n",
    "plt.title(\"Lasso vs OLS\", fontsize=16)\n",
    "plt.xlabel(\"Lasso parameter lambda (alpha)\")\n",
    "plt.ylabel(\"Test MSE\")"
   ]
  },
  {
   "cell_type": "code",
   "execution_count": 23,
   "metadata": {},
   "outputs": [
    {
     "name": "stdout",
     "output_type": "stream",
     "text": [
      "['CRIM' 'ZN' 'INDUS' 'CHAS' 'NOX' 'RM' 'AGE' 'DIS' 'RAD' 'TAX' 'PTRATIO'\n",
      " 'B' 'LSTAT']\n"
     ]
    }
   ],
   "source": [
    "LBoston_coef = pd.DataFrame(Boston_coefLA,columns=boston.feature_names)\n",
    "print(boston.feature_names)"
   ]
  },
  {
   "cell_type": "code",
   "execution_count": 24,
   "metadata": {},
   "outputs": [
    {
     "data": {
      "image/png": "[encoded data removed]",
      "text/plain": [
       "<Figure size 432x288 with 1 Axes>"
      ]
     },
     "metadata": {},
     "output_type": "display_data"
    }
   ],
   "source": [
    "plt.plot(np.arange(0,0.3,0.01), LBoston_coef.RM, 'r')\n",
    "plt.plot(np.arange(0,0.3,0.01), LBoston_coef.ZN, 'g')\n",
    "plt.plot(np.arange(0,0.3,0.01), LBoston_coef.RAD, 'b')\n",
    "plt.plot(np.arange(0,0.3,0.01), LBoston_coef.CRIM, 'c')\n",
    "plt.plot(np.arange(0,0.3,0.01), LBoston_coef.TAX, 'y')\n",
    "plt.axhline(y=0, color='black', linestyle='--')\n",
    "plt.title(\"Lasso coefficients\", fontsize=16)\n",
    "plt.xlabel(\"Lasso parameter lambda (alpha)\")\n",
    "plt.ylabel(\"Coeff Estimate\")\n",
    "plt.legend(labels=['RM','ZN','RAD','CRIM','TAX'])\n",
    "#plt.legend(labels=['Room','Residential Zone','Highway Access','Crime Rate','Tax'])\n",
    "plt.grid(True)"
   ]
  },
  {
   "cell_type": "code",
   "execution_count": 25,
   "metadata": {},
   "outputs": [
    {
     "name": "stdout",
     "output_type": "stream",
     "text": [
      "MINIMUM test MSE (Lasso): 29.13 \n",
      "\n",
      "MINIMUM test MSE (Ridge): 29.28 \n",
      "\n",
      "Test MSE (OLS): 29.36 \n",
      "\n"
     ]
    }
   ],
   "source": [
    "# Min MSE test Lasso\n",
    "print(\"MINIMUM test MSE (Lasso): %.2f\" % min(MSEtestLA),'\\n')\n",
    "# Min MSE test Ridge\n",
    "print(\"MINIMUM test MSE (Ridge): %.2f\" % min(MSEtestRR),'\\n')\n",
    "# MSE test OLS\n",
    "print(\"Test MSE (OLS): %.2f\" % MSEtestLA[0],'\\n')"
   ]
  },
  {
   "cell_type": "markdown",
   "metadata": {},
   "source": [
    "Hence, in this example, Lasso outperforms Ridge and OLS, for the optimal choice of $\\lambda$."
   ]
  },
  {
   "cell_type": "markdown",
   "metadata": {},
   "source": [
    "## Exercise 3 (bonus)"
   ]
  },
  {
   "cell_type": "markdown",
   "metadata": {},
   "source": [
    "Repeat the comparison between OLS, Ridge and Lasso, using the two other datasets, i.e. 'load_diabetes', 'load_linnerud'"
   ]
  },
  {
   "cell_type": "markdown",
   "metadata": {},
   "source": [
    "## Exercise 4 (Partial Least Squares)"
   ]
  },
  {
   "cell_type": "markdown",
   "metadata": {},
   "source": [
    "Use the same dataset to perform Partial Least Squares (PLS). \n",
    "\n",
    "- Find the Test MSE for all possible number of linear-combinations of features. Use the Train-Test split as in the previous exercises. Which number $M\\in 1,\\ldots,p$ of elements gives the minimum Test MSE? Compare with OLS, Ridge, Lasso.\n",
    "\n",
    "- Instead of a single Train-Test split, use the Cross-Validation framework, making use of the entire available trace. What number of linear combinations of the original features, $M\\in 1,\\ldots,p$ gives the optimal Test MSE result?\n",
    "\n",
    "note 1: You will need the 'cross_validate' feature, from sklearn.model_selection : https://scikit-learn.org/stable/modules/generated/sklearn.model_selection.cross_validate.html for documentation.\n",
    "\n",
    "note 2: You will need the 'PLSRegression' feature from sklearn.cross_decomposition : https://scikit-learn.org/stable/modules/generated/sklearn.cross_decomposition.PLSRegression.html for documentation."
   ]
  },
  {
   "cell_type": "markdown",
   "metadata": {},
   "source": [
    "**Answer:**"
   ]
  },
  {
   "cell_type": "code",
   "execution_count": 26,
   "metadata": {},
   "outputs": [
    {
     "data": {
      "text/plain": [
       "Text(0,0.5,'Test MSE')"
      ]
     },
     "execution_count": 26,
     "metadata": {},
     "output_type": "execute_result"
    },
    {
     "data": {
      "image/png": "[encoded data removed]",
      "text/plain": [
       "<Figure size 432x288 with 1 Axes>"
      ]
     },
     "metadata": {},
     "output_type": "display_data"
    }
   ],
   "source": [
    "# We first use the same Train-Test split as before, with Test equal to 30% of the original dataset.\n",
    "#\n",
    "MSEtestPLS = []\n",
    "for i in range(1,len(boston.feature_names)):\n",
    "    pls = PLSRegression(n_components=i)\n",
    "    pls.fit(Xbo_train,ybo_train)\n",
    "    ybo_pred_PLS = pls.predict(Xbo_test)\n",
    "    MSEtestPLS.append(mean_squared_error(ybo_test, ybo_pred_PLS))\n",
    "#\n",
    "#\n",
    "plt.plot(np.arange(1,len(boston.feature_names)),MSEtestPLS,'ro',color='blue',label='data')\n",
    "plt.axhline(y=ols_mse, color='g', linestyle='--')\n",
    "plt.title(\"PLS vs OLS (data-split)\", fontsize=16)\n",
    "plt.xlabel(\"PLS number of components\")\n",
    "plt.ylabel(\"Test MSE\")"
   ]
  },
  {
   "cell_type": "code",
   "execution_count": 27,
   "metadata": {},
   "outputs": [
    {
     "name": "stdout",
     "output_type": "stream",
     "text": [
      "MINIMUM test MSE (Lasso): 29.13 \n",
      "\n",
      "MINIMUM test MSE (Ridge): 29.28 \n",
      "\n",
      "Test MSE (OLS): 29.36 \n",
      "\n",
      "MINIMUM test MSE (PLS): 28.92 \n",
      "\n"
     ]
    }
   ],
   "source": [
    "# Min MSE test Lasso\n",
    "print(\"MINIMUM test MSE (Lasso): %.2f\" % min(MSEtestLA),'\\n')\n",
    "# Min MSE test Ridge\n",
    "print(\"MINIMUM test MSE (Ridge): %.2f\" % min(MSEtestRR),'\\n')\n",
    "# MSE test OLS\n",
    "print(\"Test MSE (OLS): %.2f\" % MSEtestLA[0],'\\n')\n",
    "# Min MSE test PLS\n",
    "print(\"MINIMUM test MSE (PLS): %.2f\" % min(MSEtestPLS),'\\n')"
   ]
  },
  {
   "cell_type": "markdown",
   "metadata": {},
   "source": [
    "Comparing with the other three methods we find that PLS gives the minimum Test MSE! It corresponds to the first two components!"
   ]
  },
  {
   "cell_type": "code",
   "execution_count": 28,
   "metadata": {},
   "outputs": [
    {
     "data": {
      "text/plain": [
       "Text(0,0.5,'Test MSE')"
      ]
     },
     "execution_count": 28,
     "metadata": {},
     "output_type": "execute_result"
    },
    {
     "data": {
      "image/png": "[encoded data removed]",
      "text/plain": [
       "<Figure size 432x288 with 1 Axes>"
      ]
     },
     "metadata": {},
     "output_type": "display_data"
    }
   ],
   "source": [
    "# We use Cross-Validation on the entire dataset.\n",
    "#\n",
    "MSEtestPLScv = []\n",
    "for i in range(1,len(boston.feature_names)):\n",
    "    pls = PLSRegression(n_components=i)\n",
    "    scores = cross_validate(pls, Xboston, Yboston, cv=10, scoring=('r2', 'neg_mean_squared_error'), return_train_score=False)\n",
    "    # Average over the Kfold (K=10):\n",
    "    MSEtestPLScv.append(-np.sum(scores['test_neg_mean_squared_error'])/len(scores['test_neg_mean_squared_error']))\n",
    "#\n",
    "#\n",
    "plt.plot(np.arange(1,len(boston.feature_names)),MSEtestPLScv,'ro',color='blue',label='data')\n",
    "plt.title(\"PLS vs OLS (cross-validate)\", fontsize=16)\n",
    "plt.xlabel(\"PLS number of components\")\n",
    "plt.ylabel(\"Test MSE\")"
   ]
  },
  {
   "cell_type": "code",
   "execution_count": null,
   "metadata": {},
   "outputs": [],
   "source": []
  }
 ],
 "metadata": {
  "kernelspec": {
   "display_name": "Python 3",
   "language": "python",
   "name": "python3"
  },
  "language_info": {
   "codemirror_mode": {
    "name": "ipython",
    "version": 3
   },
   "file_extension": ".py",
   "mimetype": "text/x-python",
   "name": "python",
   "nbconvert_exporter": "python",
   "pygments_lexer": "ipython3",
   "version": "3.6.5"
  }
 },
 "nbformat": 4,
 "nbformat_minor": 2
}
