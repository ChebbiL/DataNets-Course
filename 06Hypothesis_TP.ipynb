{
 "cells": [
  {
   "cell_type": "markdown",
   "metadata": {},
   "source": [
    "# TP  Confidence Intervals & Hypothesis Tests"
   ]
  },
  {
   "cell_type": "markdown",
   "metadata": {},
   "source": [
    "### author: Anastasios Giovanidis, 2018-2019"
   ]
  },
  {
   "cell_type": "code",
   "execution_count": 1,
   "metadata": {},
   "outputs": [],
   "source": [
    "import matplotlib.pyplot as plt\n",
    "import numpy as np\n",
    "from scipy.stats import norm\n",
    "import random"
   ]
  },
  {
   "cell_type": "markdown",
   "metadata": {},
   "source": [
    "## Exercise 1 (interval)"
   ]
  },
  {
   "cell_type": "markdown",
   "metadata": {},
   "source": [
    "We wish to measure a quantity $\\theta$, but there is a random error in each measurement (noise). \n",
    "\n",
    "Then, measurement $i$ is\n",
    "\n",
    "$X_i = \\theta+W_i$,\n",
    "\n",
    "$W_i$ being the error in the $i$-th measurement. All $W_i$s are i.i.d.\n",
    "\n",
    "We take $n$ measurements $(X_1,\\ldots, X_n)$ and report the average of the measurements $\\overline{X}$ as the estimated value of $\\theta$. The $W_i$s are drawn from $Normal(0,4^2)$ with **known** variance, whereas the **unknown** parameter $\\theta=1$.\n",
    "\n",
    "   a) Given a sample-set of size $n=10$, provide the confidence interval for $\\theta$, with confidence $\\alpha=90\\%$. \n",
    "      \n",
    "   b) Draw $T=2,000$ times, new sets of size $n=10$ each, find new intervals for each $t$, and mark with $+1$ if the unknown parameter $\\theta=1$ falls inside the new confidence interval calculated, otherwise $0$. What is the percentage that it falls inside the estimated interval?\n",
    "   \n",
    "   c) After having written the code, repeat (a)-(b) for unknown variance, using the sample standard deviation and approximate confidence intervals. What do you observe? Why?"
   ]
  },
  {
   "cell_type": "markdown",
   "metadata": {},
   "source": [
    "**Answers**"
   ]
  },
  {
   "cell_type": "code",
   "execution_count": null,
   "metadata": {},
   "outputs": [],
   "source": []
  },
  {
   "cell_type": "markdown",
   "metadata": {},
   "source": [
    "## Exercise 2 (hypothesis test)"
   ]
  },
  {
   "cell_type": "markdown",
   "metadata": {},
   "source": [
    "We will study in more detail the Neyman-Pearson Test, which leads to the Likelihood Ratio Test (LRT) we saw during the course. It can be shown that this test has the following property:\n",
    "\n",
    "**Theory:** The LRT minimises Type II error, under the requirement that Type I error is bounded by: $\\alpha\\leq2^{-\\lambda n}$ for a given $\\lambda>0$."
   ]
  },
  {
   "cell_type": "markdown",
   "metadata": {},
   "source": [
    "**Application in Wireless Networks:** We can use a hypothesis test to determine anomalies in the normal operation of a cellular network. Consider an LTE network which serves mobile users, and let us focus on some specific period every Monday. Specifically, assume that the network consists of just two base stations ($S_1$ and $S_2$), on neighbouring cells.\n",
    "\n",
    "During this period, and every Monday, each of these Base Stations have a charge $Y_{i}$, $i\\in\\left\\{1,2\\right\\}$ which is a random variable, drawn from a Normal distribution of mean $\\rho$ and standard deviation $\\sigma$, both known. This knowledge comes from systematic measurements that the stations constantly perform and send to some control center. "
   ]
  },
  {
   "cell_type": "markdown",
   "metadata": {},
   "source": [
    "If an anomaly occurs on station $S_2$, the second Base Station becomes deactivated. As a result, all users that were served by this station will migrate to the neighbouring $S_1$, and the new charge of the remaining station will become $2\\rho$ in mean value. This information will gradually be sent through load measurements to the control center as well."
   ]
  },
  {
   "cell_type": "markdown",
   "metadata": {},
   "source": [
    "Consider the hypothesis:\n",
    "\n",
    "- $H_0:$ the system of two stations is operating normally, VS\n",
    "\n",
    "- $H_1:$ there is an anomaly in base station $S_2$.\n",
    "\n",
    "**Questions**\n",
    "\n",
    "(A) Find (analytically) the criterion that guarantees a false alarm of $1\\%$.\n",
    "\n",
    "(B) The designer wishes to achieve a false alarm of $1\\%$ within $10$ measurements.\n",
    "Draw $T=20,000$ sets of size $N=10$ from the $H_0$, and verify with simulations that indeed the false alarm is $1\\%$.\n",
    "\n",
    "(C) Suppose that at the beginning of the measurements, all works well, but at time $M$ the station breaks down. We do not know the instant that the anomaly begins. How many additional measurements after $M$ are necessary, to detect the anomaly? Use simulations to find out! (Again do $T=20,000$ simulations to answer on average.)\n",
    "\n",
    "Use values for $M=10,50,100, 200$ and evaluate the change in average delay.\n",
    "\n",
    "Values: $\\rho = 50$ [Mbps], and $\\sigma = 5$ [Mbps]."
   ]
  },
  {
   "cell_type": "markdown",
   "metadata": {},
   "source": [
    "**Answers**"
   ]
  },
  {
   "cell_type": "code",
   "execution_count": null,
   "metadata": {},
   "outputs": [],
   "source": []
  }
 ],
 "metadata": {
  "kernelspec": {
   "display_name": "Python 3",
   "language": "python",
   "name": "python3"
  },
  "language_info": {
   "codemirror_mode": {
    "name": "ipython",
    "version": 3
   },
   "file_extension": ".py",
   "mimetype": "text/x-python",
   "name": "python",
   "nbconvert_exporter": "python",
   "pygments_lexer": "ipython3",
   "version": "3.6.5"
  }
 },
 "nbformat": 4,
 "nbformat_minor": 2
}
